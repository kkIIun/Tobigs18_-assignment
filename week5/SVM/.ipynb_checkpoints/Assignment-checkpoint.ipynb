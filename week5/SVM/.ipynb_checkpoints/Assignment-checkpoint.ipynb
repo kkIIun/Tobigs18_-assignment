{
 "cells": [
  {
   "cell_type": "markdown",
   "id": "9ad88f3e",
   "metadata": {},
   "source": [
    "# Multiclass SVM 구현"
   ]
  },
  {
   "cell_type": "code",
   "execution_count": 103,
   "id": "1ee53277",
   "metadata": {
    "scrolled": true
   },
   "outputs": [
    {
     "name": "stdout",
     "output_type": "stream",
     "text": [
      "0         setosa\n",
      "1         setosa\n",
      "2         setosa\n",
      "3         setosa\n",
      "4         setosa\n",
      "         ...    \n",
      "145    virginica\n",
      "146    virginica\n",
      "147    virginica\n",
      "148    virginica\n",
      "149    virginica\n",
      "Name: species, Length: 150, dtype: object\n"
     ]
    }
   ],
   "source": [
    "import numpy as np\n",
    "import pandas as pd\n",
    "import matplotlib.pyplot as plt\n",
    "import seaborn as sns\n",
    "from sklearn.svm import SVC\n",
    "from sklearn.model_selection import train_test_split\n",
    "from sklearn.pipeline import Pipeline\n",
    "from sklearn.preprocessing import StandardScaler\n",
    "from sklearn.metrics import accuracy_score\n",
    "from mlxtend.classifier import EnsembleVoteClassifier\n",
    "\n",
    "#IRIS 데이터 로드\n",
    "iris =  sns.load_dataset('iris') \n",
    "X= iris.iloc[:,:4] #학습할데이터\n",
    "y = iris.iloc[:,-1] #타겟\n",
    "print(y)"
   ]
  },
  {
   "cell_type": "markdown",
   "id": "1679f7b6",
   "metadata": {},
   "source": [
    "## data 전처리"
   ]
  },
  {
   "cell_type": "markdown",
   "id": "8b466176",
   "metadata": {},
   "source": [
    "### class one-hot encoding\n",
    "&#x2022; setosa : 0\n",
    "<br>\n",
    "&#x2022; versicolor : 1\n",
    "<br>\n",
    "&#x2022; virginica : 2"
   ]
  },
  {
   "cell_type": "code",
   "execution_count": 104,
   "id": "11719030",
   "metadata": {},
   "outputs": [
    {
     "name": "stdout",
     "output_type": "stream",
     "text": [
      "[[1 0 0]\n",
      " [1 0 0]\n",
      " [1 0 0]\n",
      " [1 0 0]\n",
      " [1 0 0]\n",
      " [1 0 0]\n",
      " [1 0 0]\n",
      " [1 0 0]\n",
      " [1 0 0]\n",
      " [1 0 0]\n",
      " [1 0 0]\n",
      " [1 0 0]\n",
      " [1 0 0]\n",
      " [1 0 0]\n",
      " [1 0 0]\n",
      " [1 0 0]\n",
      " [1 0 0]\n",
      " [1 0 0]\n",
      " [1 0 0]\n",
      " [1 0 0]\n",
      " [1 0 0]\n",
      " [1 0 0]\n",
      " [1 0 0]\n",
      " [1 0 0]\n",
      " [1 0 0]\n",
      " [1 0 0]\n",
      " [1 0 0]\n",
      " [1 0 0]\n",
      " [1 0 0]\n",
      " [1 0 0]\n",
      " [1 0 0]\n",
      " [1 0 0]\n",
      " [1 0 0]\n",
      " [1 0 0]\n",
      " [1 0 0]\n",
      " [1 0 0]\n",
      " [1 0 0]\n",
      " [1 0 0]\n",
      " [1 0 0]\n",
      " [1 0 0]\n",
      " [1 0 0]\n",
      " [1 0 0]\n",
      " [1 0 0]\n",
      " [1 0 0]\n",
      " [1 0 0]\n",
      " [1 0 0]\n",
      " [1 0 0]\n",
      " [1 0 0]\n",
      " [1 0 0]\n",
      " [1 0 0]\n",
      " [0 1 0]\n",
      " [0 1 0]\n",
      " [0 1 0]\n",
      " [0 1 0]\n",
      " [0 1 0]\n",
      " [0 1 0]\n",
      " [0 1 0]\n",
      " [0 1 0]\n",
      " [0 1 0]\n",
      " [0 1 0]\n",
      " [0 1 0]\n",
      " [0 1 0]\n",
      " [0 1 0]\n",
      " [0 1 0]\n",
      " [0 1 0]\n",
      " [0 1 0]\n",
      " [0 1 0]\n",
      " [0 1 0]\n",
      " [0 1 0]\n",
      " [0 1 0]\n",
      " [0 1 0]\n",
      " [0 1 0]\n",
      " [0 1 0]\n",
      " [0 1 0]\n",
      " [0 1 0]\n",
      " [0 1 0]\n",
      " [0 1 0]\n",
      " [0 1 0]\n",
      " [0 1 0]\n",
      " [0 1 0]\n",
      " [0 1 0]\n",
      " [0 1 0]\n",
      " [0 1 0]\n",
      " [0 1 0]\n",
      " [0 1 0]\n",
      " [0 1 0]\n",
      " [0 1 0]\n",
      " [0 1 0]\n",
      " [0 1 0]\n",
      " [0 1 0]\n",
      " [0 1 0]\n",
      " [0 1 0]\n",
      " [0 1 0]\n",
      " [0 1 0]\n",
      " [0 1 0]\n",
      " [0 1 0]\n",
      " [0 1 0]\n",
      " [0 1 0]\n",
      " [0 1 0]\n",
      " [0 1 0]\n",
      " [0 0 1]\n",
      " [0 0 1]\n",
      " [0 0 1]\n",
      " [0 0 1]\n",
      " [0 0 1]\n",
      " [0 0 1]\n",
      " [0 0 1]\n",
      " [0 0 1]\n",
      " [0 0 1]\n",
      " [0 0 1]\n",
      " [0 0 1]\n",
      " [0 0 1]\n",
      " [0 0 1]\n",
      " [0 0 1]\n",
      " [0 0 1]\n",
      " [0 0 1]\n",
      " [0 0 1]\n",
      " [0 0 1]\n",
      " [0 0 1]\n",
      " [0 0 1]\n",
      " [0 0 1]\n",
      " [0 0 1]\n",
      " [0 0 1]\n",
      " [0 0 1]\n",
      " [0 0 1]\n",
      " [0 0 1]\n",
      " [0 0 1]\n",
      " [0 0 1]\n",
      " [0 0 1]\n",
      " [0 0 1]\n",
      " [0 0 1]\n",
      " [0 0 1]\n",
      " [0 0 1]\n",
      " [0 0 1]\n",
      " [0 0 1]\n",
      " [0 0 1]\n",
      " [0 0 1]\n",
      " [0 0 1]\n",
      " [0 0 1]\n",
      " [0 0 1]\n",
      " [0 0 1]\n",
      " [0 0 1]\n",
      " [0 0 1]\n",
      " [0 0 1]\n",
      " [0 0 1]\n",
      " [0 0 1]\n",
      " [0 0 1]\n",
      " [0 0 1]\n",
      " [0 0 1]\n",
      " [0 0 1]]\n"
     ]
    }
   ],
   "source": [
    "# classes = list(set(y.values))\n",
    "# print(classes)\n",
    "encoding_y = pd.get_dummies(y).values\n",
    "print(encoding_y)\n",
    "# for i in range(len(y)):\n",
    "#     y[i] = classes.index(y[i])"
   ]
  },
  {
   "cell_type": "markdown",
   "id": "2092286c",
   "metadata": {},
   "source": [
    "### data set 분리"
   ]
  },
  {
   "cell_type": "code",
   "execution_count": 105,
   "id": "57c67bc8",
   "metadata": {},
   "outputs": [],
   "source": [
    "# data train, test set 분리\n",
    "X_train, X_test, y_train, y_test = train_test_split(X, encoding_y, test_size=0.2, random_state=48)"
   ]
  },
  {
   "cell_type": "markdown",
   "id": "e3509896",
   "metadata": {},
   "source": [
    "### data 정규화"
   ]
  },
  {
   "cell_type": "code",
   "execution_count": 106,
   "id": "88a4203d",
   "metadata": {},
   "outputs": [],
   "source": [
    "# data 정규화\n",
    "def standardization(train, test):\n",
    "    scaler = StandardScaler()\n",
    "    train = scaler.fit_transform(train)\n",
    "    test = scaler.transform(test)\n",
    "    return train, test\n",
    "\n",
    "X_train, X_test = standardization(X_train, X_test)"
   ]
  },
  {
   "cell_type": "code",
   "execution_count": 107,
   "id": "403590f5",
   "metadata": {},
   "outputs": [
    {
     "data": {
      "text/plain": [
       "(120, 4)"
      ]
     },
     "execution_count": 107,
     "metadata": {},
     "output_type": "execute_result"
    }
   ],
   "source": [
    "X_train.shape"
   ]
  },
  {
   "cell_type": "code",
   "execution_count": 108,
   "id": "9861d8a6",
   "metadata": {},
   "outputs": [
    {
     "data": {
      "text/plain": [
       "(30, 4)"
      ]
     },
     "execution_count": 108,
     "metadata": {},
     "output_type": "execute_result"
    }
   ],
   "source": [
    "X_test.shape"
   ]
  },
  {
   "cell_type": "markdown",
   "id": "1561562d",
   "metadata": {},
   "source": [
    "## 모델 구현"
   ]
  },
  {
   "cell_type": "markdown",
   "id": "18267162",
   "metadata": {},
   "source": [
    "### one vs rest\n",
    "클래스가 N개 있으면 모든 Class에 대해 1:N-1로 binary분류하여 이 클래스가 맞는지 아닌지를 판단하고 투표로 결정합니다. 이 때 N개의 분류기가 필요합니다."
   ]
  },
  {
   "cell_type": "code",
   "execution_count": 188,
   "id": "df1588e1",
   "metadata": {},
   "outputs": [],
   "source": [
    "class model:\n",
    "    def __init__(self, kernel, C, gamma):        \n",
    "        self.kernel = kernel\n",
    "        self.gamma = gamma\n",
    "        self.C = C\n",
    "        \n",
    "    def fit(self, X_train, y_train):\n",
    "        clfs= []\n",
    "        for i in range(y_train.shape[1]):\n",
    "            clf = SVC(kernel=self.kernel, C=self.C, gamma=self.gamma, random_state=42).fit(X_train, y_train[:,i])\n",
    "            clfs.append(clf)\n",
    "        return clfs"
   ]
  },
  {
   "cell_type": "markdown",
   "id": "1b3bb5ed",
   "metadata": {},
   "source": [
    "### Soft vs Hard voting\n",
    "<ul>\n",
    "    <li><Strong>Hard voting</Strong>: 각각의 모델들이 은 각각의 모델들이 결과를 예측하면 단순하게 가장 많은 표를 얻은 결과를 선택하는 것입니다</li>\n",
    "    <li><Strong>Soft voting</Strong>:  각 class별로 모델들이 예측한 probability를 합산해서 가장 높은 class를 선택하면 됩니다.\n",
    "\n",
    "</li>\n",
    "</ul>"
   ]
  },
  {
   "cell_type": "code",
   "execution_count": 189,
   "id": "cf8e1797",
   "metadata": {},
   "outputs": [],
   "source": [
    "# Soft voting방법으로 모델링\n",
    "def soft_voting(clfs, X_test, y_test):\n",
    "    Soft_voting = np.zeros(y_test.shape)\n",
    "    for i,clf in enumerate(clfs):\n",
    "        prob = clf.decision_function(X_test)\n",
    "        # i해당하는 prob 더해준다.\n",
    "        Soft_voting[:,i] += prob\n",
    "        # i를 제외한 인덱스에 대해서 1-prob만큼 더해준다.\n",
    "        Soft_voting += (1 - prob[:,np.newaxis])\n",
    "        Soft_voting[:,i] -= 1 - prob\n",
    "    return Soft_voting"
   ]
  },
  {
   "cell_type": "code",
   "execution_count": 179,
   "id": "8e3e5df3",
   "metadata": {},
   "outputs": [],
   "source": [
    "encoding_y_test = np.argmax(y_test, axis=-1)"
   ]
  },
  {
   "cell_type": "markdown",
   "id": "a33b566d",
   "metadata": {},
   "source": [
    "### 사이킷런 SVM parameter\n",
    "<ul>\n",
    "    <li><Strong>Kernel</Strong>: Decision Boundary의 모양 결정(Linear, Polynomial, Sigmoid, RBF등)</li>\n",
    "    <li><Strong>C</Strong>: Decision Boundary 일반화 vs Training data의 정확한 분류 사이의 trade-off 조정</li>\n",
    "    <li><Strong>Gamma</Strong>: 결정경계의 굴곡에 영향을 주는 데이터의 범위를 정의</li>\n",
    "</ul>"
   ]
  },
  {
   "cell_type": "code",
   "execution_count": 181,
   "id": "ef215b02",
   "metadata": {},
   "outputs": [],
   "source": [
    "parameters = {'kernel': ['rbf','linear'], 'C': [0.001, 0.01, 0.1, 1, 10, 100],\n",
    "             'gamma': [0.001, 0.01, 0.1, 1, 10, 100]}"
   ]
  },
  {
   "cell_type": "code",
   "execution_count": 190,
   "id": "e3680723",
   "metadata": {},
   "outputs": [],
   "source": [
    "results = []\n",
    "for kernel in parameters['kernel']:\n",
    "    for C in parameters['C']:\n",
    "        for gamma in parameters['gamma']:\n",
    "            SVM = model(kernel, C, gamma)\n",
    "            clfs = SVM.fit(X_train, y_train)\n",
    "            prob = soft_voting(clfs, X_test, y_test)\n",
    "            predict = np.argmax(prob,axis=-1)\n",
    "            acc_score = accuracy_score(encoding_y_test, predict)\n",
    "            results.append((acc_score,kernel,C,gamma))"
   ]
  },
  {
   "cell_type": "code",
   "execution_count": 191,
   "id": "7c89f3e3",
   "metadata": {},
   "outputs": [],
   "source": [
    "results.sort()"
   ]
  },
  {
   "cell_type": "code",
   "execution_count": 194,
   "id": "474f19e6",
   "metadata": {},
   "outputs": [
    {
     "data": {
      "text/plain": [
       "(1.0, 'rbf', 10, 0.1)"
      ]
     },
     "execution_count": 194,
     "metadata": {},
     "output_type": "execute_result"
    }
   ],
   "source": [
    "results[-1]"
   ]
  },
  {
   "cell_type": "markdown",
   "id": "3aca1069",
   "metadata": {},
   "source": [
    "### Grid Search 방식을 이용해서 최적의 파라미터를 도출해보았습니다. \n",
    "kernel='rbf', C=10, gamma=0.1일때 Acc는 1.0입니다. "
   ]
  }
 ],
 "metadata": {
  "kernelspec": {
   "display_name": "Python 3 (ipykernel)",
   "language": "python",
   "name": "python3"
  },
  "language_info": {
   "codemirror_mode": {
    "name": "ipython",
    "version": 3
   },
   "file_extension": ".py",
   "mimetype": "text/x-python",
   "name": "python",
   "nbconvert_exporter": "python",
   "pygments_lexer": "ipython3",
   "version": "3.9.12"
  }
 },
 "nbformat": 4,
 "nbformat_minor": 5
}
