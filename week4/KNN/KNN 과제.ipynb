{
 "cells": [
  {
   "cell_type": "markdown",
   "metadata": {
    "id": "_PTZ7GaPe4PF"
   },
   "source": [
    "# 17기 KNN 정규세션 과제"
   ]
  },
  {
   "cell_type": "markdown",
   "metadata": {
    "id": "3OFNeO0Ie4PH"
   },
   "source": [
    "## KNN 구현해보기\n",
    "### 1. Preprocssing / EDA\n",
    "지금까지 배운 내용을 토대로 해당 데이터에 대해 자유롭게 전처리와 EDA를 진행해주세요.\n",
    "### 2. KNN 구현 & 파라미터 튜닝\n",
    "수업 내용 및 실습 자료를 참고하여 KNN을 구현하고 파라미터 튜닝을 하며 결과를 비교해주세요.\n",
    "### 3. Evaluation\n",
    "결과에 대한 평가를 진행하고, 나름의 해석을 달아주세요."
   ]
  },
  {
   "cell_type": "markdown",
   "metadata": {
    "id": "k_IkS8Ybe4PI"
   },
   "source": [
    "**데이터:** [blackfriday | Kaggle](https://www.kaggle.com/llopesolivei/blackfriday)"
   ]
  },
  {
   "cell_type": "markdown",
   "metadata": {
    "id": "ZvUdeo2he4PI"
   },
   "source": [
    "---"
   ]
  },
  {
   "cell_type": "markdown",
   "metadata": {
    "id": "lTlQgiSie4PI"
   },
   "source": [
    "## 0. 데이터 불러오기"
   ]
  },
  {
   "cell_type": "code",
   "execution_count": 75,
   "metadata": {
    "id": "eNTRK8Ete4PJ",
    "outputId": "de247747-4645-49a6-c5d2-38cc1a381d42"
   },
   "outputs": [
    {
     "data": {
      "text/html": [
       "<div>\n",
       "<style scoped>\n",
       "    .dataframe tbody tr th:only-of-type {\n",
       "        vertical-align: middle;\n",
       "    }\n",
       "\n",
       "    .dataframe tbody tr th {\n",
       "        vertical-align: top;\n",
       "    }\n",
       "\n",
       "    .dataframe thead th {\n",
       "        text-align: right;\n",
       "    }\n",
       "</style>\n",
       "<table border=\"1\" class=\"dataframe\">\n",
       "  <thead>\n",
       "    <tr style=\"text-align: right;\">\n",
       "      <th></th>\n",
       "      <th>User_ID</th>\n",
       "      <th>Product_ID</th>\n",
       "      <th>Gender</th>\n",
       "      <th>Age</th>\n",
       "      <th>Occupation</th>\n",
       "      <th>City_Category</th>\n",
       "      <th>Stay_In_Current_City_Years</th>\n",
       "      <th>Marital_Status</th>\n",
       "      <th>Product_Category_1</th>\n",
       "      <th>Product_Category_2</th>\n",
       "      <th>Product_Category_3</th>\n",
       "      <th>Purchase</th>\n",
       "    </tr>\n",
       "  </thead>\n",
       "  <tbody>\n",
       "    <tr>\n",
       "      <th>0</th>\n",
       "      <td>1001088</td>\n",
       "      <td>P00046042</td>\n",
       "      <td>F</td>\n",
       "      <td>0-17</td>\n",
       "      <td>10</td>\n",
       "      <td>A</td>\n",
       "      <td>3</td>\n",
       "      <td>0</td>\n",
       "      <td>5</td>\n",
       "      <td>17.0</td>\n",
       "      <td>NaN</td>\n",
       "      <td>2010</td>\n",
       "    </tr>\n",
       "    <tr>\n",
       "      <th>1</th>\n",
       "      <td>1004493</td>\n",
       "      <td>P00347742</td>\n",
       "      <td>F</td>\n",
       "      <td>0-17</td>\n",
       "      <td>10</td>\n",
       "      <td>A</td>\n",
       "      <td>1</td>\n",
       "      <td>0</td>\n",
       "      <td>7</td>\n",
       "      <td>NaN</td>\n",
       "      <td>NaN</td>\n",
       "      <td>4483</td>\n",
       "    </tr>\n",
       "    <tr>\n",
       "      <th>2</th>\n",
       "      <td>1005302</td>\n",
       "      <td>P00048942</td>\n",
       "      <td>F</td>\n",
       "      <td>0-17</td>\n",
       "      <td>10</td>\n",
       "      <td>A</td>\n",
       "      <td>1</td>\n",
       "      <td>0</td>\n",
       "      <td>1</td>\n",
       "      <td>4.0</td>\n",
       "      <td>NaN</td>\n",
       "      <td>7696</td>\n",
       "    </tr>\n",
       "    <tr>\n",
       "      <th>3</th>\n",
       "      <td>1001348</td>\n",
       "      <td>P00145242</td>\n",
       "      <td>F</td>\n",
       "      <td>0-17</td>\n",
       "      <td>10</td>\n",
       "      <td>A</td>\n",
       "      <td>3</td>\n",
       "      <td>0</td>\n",
       "      <td>2</td>\n",
       "      <td>4.0</td>\n",
       "      <td>NaN</td>\n",
       "      <td>16429</td>\n",
       "    </tr>\n",
       "    <tr>\n",
       "      <th>4</th>\n",
       "      <td>1001348</td>\n",
       "      <td>P00106742</td>\n",
       "      <td>F</td>\n",
       "      <td>0-17</td>\n",
       "      <td>10</td>\n",
       "      <td>A</td>\n",
       "      <td>3</td>\n",
       "      <td>0</td>\n",
       "      <td>3</td>\n",
       "      <td>5.0</td>\n",
       "      <td>NaN</td>\n",
       "      <td>5780</td>\n",
       "    </tr>\n",
       "  </tbody>\n",
       "</table>\n",
       "</div>"
      ],
      "text/plain": [
       "   User_ID Product_ID Gender   Age  Occupation City_Category  \\\n",
       "0  1001088  P00046042      F  0-17          10             A   \n",
       "1  1004493  P00347742      F  0-17          10             A   \n",
       "2  1005302  P00048942      F  0-17          10             A   \n",
       "3  1001348  P00145242      F  0-17          10             A   \n",
       "4  1001348  P00106742      F  0-17          10             A   \n",
       "\n",
       "  Stay_In_Current_City_Years  Marital_Status  Product_Category_1  \\\n",
       "0                          3               0                   5   \n",
       "1                          1               0                   7   \n",
       "2                          1               0                   1   \n",
       "3                          3               0                   2   \n",
       "4                          3               0                   3   \n",
       "\n",
       "   Product_Category_2  Product_Category_3  Purchase  \n",
       "0                17.0                 NaN      2010  \n",
       "1                 NaN                 NaN      4483  \n",
       "2                 4.0                 NaN      7696  \n",
       "3                 4.0                 NaN     16429  \n",
       "4                 5.0                 NaN      5780  "
      ]
     },
     "execution_count": 75,
     "metadata": {},
     "output_type": "execute_result"
    }
   ],
   "source": [
    "import pandas as pd\n",
    "df = pd.read_csv(\"blackfriday.csv\", index_col = 0)\n",
    "df.head()"
   ]
  },
  {
   "cell_type": "markdown",
   "metadata": {},
   "source": [
    "## 데이터 탐색"
   ]
  },
  {
   "cell_type": "code",
   "execution_count": 76,
   "metadata": {
    "scrolled": true
   },
   "outputs": [
    {
     "name": "stdout",
     "output_type": "stream",
     "text": [
      "<class 'pandas.core.frame.DataFrame'>\n",
      "Int64Index: 4998 entries, 0 to 4997\n",
      "Data columns (total 12 columns):\n",
      " #   Column                      Non-Null Count  Dtype  \n",
      "---  ------                      --------------  -----  \n",
      " 0   User_ID                     4998 non-null   int64  \n",
      " 1   Product_ID                  4998 non-null   object \n",
      " 2   Gender                      4998 non-null   object \n",
      " 3   Age                         4998 non-null   object \n",
      " 4   Occupation                  4998 non-null   int64  \n",
      " 5   City_Category               4998 non-null   object \n",
      " 6   Stay_In_Current_City_Years  4998 non-null   object \n",
      " 7   Marital_Status              4998 non-null   int64  \n",
      " 8   Product_Category_1          4998 non-null   int64  \n",
      " 9   Product_Category_2          3465 non-null   float64\n",
      " 10  Product_Category_3          1544 non-null   float64\n",
      " 11  Purchase                    4998 non-null   int64  \n",
      "dtypes: float64(2), int64(5), object(5)\n",
      "memory usage: 507.6+ KB\n"
     ]
    }
   ],
   "source": [
    "df.info()"
   ]
  },
  {
   "cell_type": "code",
   "execution_count": 77,
   "metadata": {
    "scrolled": false
   },
   "outputs": [
    {
     "name": "stdout",
     "output_type": "stream",
     "text": [
      "1002063    12\n",
      "1005795    12\n",
      "1001980    11\n",
      "1004344    11\n",
      "1006036    10\n",
      "           ..\n",
      "1004980     1\n",
      "1004385     1\n",
      "1004138     1\n",
      "1002648     1\n",
      "1000837     1\n",
      "Name: User_ID, Length: 2656, dtype: int64\n",
      "\n",
      "P00265242    21\n",
      "P00220442    16\n",
      "P00114942    15\n",
      "P00010742    15\n",
      "P00148642    15\n",
      "             ..\n",
      "P00072342     1\n",
      "P00037842     1\n",
      "P00207042     1\n",
      "P00129742     1\n",
      "P00358242     1\n",
      "Name: Product_ID, Length: 1797, dtype: int64\n",
      "\n",
      "M    3765\n",
      "F    1233\n",
      "Name: Gender, dtype: int64\n",
      "\n",
      "26-35    1996\n",
      "36-45    1000\n",
      "18-25     906\n",
      "46-50     414\n",
      "51-55     350\n",
      "55+       195\n",
      "0-17      137\n",
      "Name: Age, dtype: int64\n",
      "\n",
      "4     706\n",
      "0     572\n",
      "7     535\n",
      "1     460\n",
      "17    339\n",
      "12    305\n",
      "20    285\n",
      "2     251\n",
      "14    245\n",
      "16    244\n",
      "6     186\n",
      "3     160\n",
      "15    133\n",
      "10    122\n",
      "5      98\n",
      "11     95\n",
      "19     73\n",
      "13     65\n",
      "18     56\n",
      "9      50\n",
      "8      18\n",
      "Name: Occupation, dtype: int64\n",
      "\n",
      "B    2102\n",
      "C    1555\n",
      "A    1341\n",
      "Name: City_Category, dtype: int64\n",
      "\n",
      "1     1758\n",
      "2      915\n",
      "3      908\n",
      "4+     742\n",
      "0      675\n",
      "Name: Stay_In_Current_City_Years, dtype: int64\n",
      "\n",
      "0    2892\n",
      "1    2106\n",
      "Name: Marital_Status, dtype: int64\n",
      "\n",
      "5     1407\n",
      "1     1285\n",
      "8      995\n",
      "2      227\n",
      "11     206\n",
      "3      193\n",
      "6      193\n",
      "4      107\n",
      "16      78\n",
      "15      57\n",
      "13      43\n",
      "10      41\n",
      "7       40\n",
      "12      31\n",
      "20      31\n",
      "19      20\n",
      "14      19\n",
      "18      18\n",
      "17       6\n",
      "9        1\n",
      "Name: Product_Category_1, dtype: int64\n",
      "\n",
      "8.0     588\n",
      "14.0    496\n",
      "2.0     448\n",
      "16.0    392\n",
      "15.0    345\n",
      "5.0     258\n",
      "4.0     246\n",
      "6.0     148\n",
      "17.0    132\n",
      "11.0    110\n",
      "13.0    102\n",
      "9.0      65\n",
      "12.0     40\n",
      "3.0      35\n",
      "10.0     30\n",
      "18.0     23\n",
      "7.0       7\n",
      "Name: Product_Category_2, dtype: int64\n",
      "\n",
      "16.0    318\n",
      "15.0    260\n",
      "14.0    162\n",
      "17.0    146\n",
      "5.0     140\n",
      "8.0     116\n",
      "9.0     105\n",
      "12.0     96\n",
      "13.0     50\n",
      "18.0     44\n",
      "6.0      44\n",
      "10.0     23\n",
      "11.0     22\n",
      "4.0      17\n",
      "3.0       1\n",
      "Name: Product_Category_3, dtype: int64\n",
      "\n",
      "7001     6\n",
      "7063     6\n",
      "5328     6\n",
      "8115     6\n",
      "7176     5\n",
      "        ..\n",
      "12069    1\n",
      "16668    1\n",
      "3187     1\n",
      "4043     1\n",
      "1413     1\n",
      "Name: Purchase, Length: 3736, dtype: int64\n",
      "\n"
     ]
    }
   ],
   "source": [
    "for i in df.columns:\n",
    "    print(df[i].value_counts())\n",
    "    print()"
   ]
  },
  {
   "cell_type": "markdown",
   "metadata": {},
   "source": [
    "## 목적변수\n",
    "#### Purchase : 구매량\n",
    "## 설명변수\n",
    "#### User_ID: 유저 아이디\n",
    "#### Product_ID: 제품 아이디\n",
    "#### Gender: 성별\n",
    "#### Age: 나이\n",
    "#### Occupation: 직업\n",
    "#### City_Category: 도시\n",
    "#### Stay_In_Current_CIty_Years: 현재 도시에 거주한 년수\n",
    "#### Marital_Status: 결혼 여부\n",
    "#### Product_Category_1, 2, 3: 제품 분류"
   ]
  },
  {
   "cell_type": "markdown",
   "metadata": {},
   "source": [
    "## 1. Preprocessing / EDA"
   ]
  },
  {
   "cell_type": "markdown",
   "metadata": {},
   "source": [
    "### 결측치 검토"
   ]
  },
  {
   "cell_type": "code",
   "execution_count": 78,
   "metadata": {},
   "outputs": [
    {
     "data": {
      "text/plain": [
       "User_ID                          0\n",
       "Product_ID                       0\n",
       "Gender                           0\n",
       "Age                              0\n",
       "Occupation                       0\n",
       "City_Category                    0\n",
       "Stay_In_Current_City_Years       0\n",
       "Marital_Status                   0\n",
       "Product_Category_1               0\n",
       "Product_Category_2            1533\n",
       "Product_Category_3            3454\n",
       "Purchase                         0\n",
       "dtype: int64"
      ]
     },
     "execution_count": 78,
     "metadata": {},
     "output_type": "execute_result"
    }
   ],
   "source": [
    "# 결측치 개수 세기\n",
    "df.isna().sum()"
   ]
  },
  {
   "cell_type": "code",
   "execution_count": 79,
   "metadata": {},
   "outputs": [],
   "source": [
    "# 결측치 columns 제거\n",
    "df = df.drop(columns=['Product_Category_3'])"
   ]
  },
  {
   "cell_type": "markdown",
   "metadata": {},
   "source": [
    "Product_Category_3 은 결측치가 너무 많아 열에서 제거했습니다. "
   ]
  },
  {
   "cell_type": "markdown",
   "metadata": {},
   "source": [
    "### Product_Category_2 결측치 채우기"
   ]
  },
  {
   "cell_type": "code",
   "execution_count": 80,
   "metadata": {},
   "outputs": [
    {
     "data": {
      "text/plain": [
       "{'P000': 1229, 'P003': 718, 'P001': 1687, 'P002': 1282, 'P009': 82}"
      ]
     },
     "execution_count": 80,
     "metadata": {},
     "output_type": "execute_result"
    }
   ],
   "source": [
    "product_id_dict = {}\n",
    "for product in df['Product_ID']:\n",
    "    # Product ID가 너무 길기 때문에 앞에 네자리만 사용.\n",
    "    if product[:4] not in product_id_dict:\n",
    "        product_id_dict[product[:4]] = 1\n",
    "    else:\n",
    "        product_id_dict[product[:4]] += 1\n",
    "product_id_dict"
   ]
  },
  {
   "cell_type": "markdown",
   "metadata": {},
   "source": [
    "##### 제품 아이디 4자리만 봤을 때 빈도수를 비교해보면, \n",
    "##### P001 > P002 > P000 > P003 > P009 입니다."
   ]
  },
  {
   "cell_type": "code",
   "execution_count": 81,
   "metadata": {},
   "outputs": [],
   "source": [
    "df['Product_ID'] = df['Product_ID'].str[:4]"
   ]
  },
  {
   "cell_type": "code",
   "execution_count": 82,
   "metadata": {
    "scrolled": true
   },
   "outputs": [
    {
     "name": "stdout",
     "output_type": "stream",
     "text": [
      "Product_Category_2\n",
      "14.0    189\n",
      "Name: Product_Category_2, dtype: int64\n",
      "Product_Category_2\n",
      "8.0    122\n",
      "Name: Product_Category_2, dtype: int64\n",
      "Product_Category_2\n",
      "2.0    201\n",
      "Name: Product_Category_2, dtype: int64\n",
      "Product_Category_2\n",
      "8.0    160\n",
      "Name: Product_Category_2, dtype: int64\n",
      "Product_Category_2\n",
      "4.0    25\n",
      "Name: Product_Category_2, dtype: int64\n"
     ]
    }
   ],
   "source": [
    "print(df.groupby(['Product_ID'])['Product_Category_2'].value_counts()['P000'].nlargest(1))\n",
    "print(df.groupby(['Product_ID'])['Product_Category_2'].value_counts()['P003'].nlargest(1))\n",
    "print(df.groupby(['Product_ID'])['Product_Category_2'].value_counts()['P001'].nlargest(1))\n",
    "print(df.groupby(['Product_ID'])['Product_Category_2'].value_counts()['P002'].nlargest(1))\n",
    "print(df.groupby(['Product_ID'])['Product_Category_2'].value_counts()['P009'].nlargest(1))"
   ]
  },
  {
   "cell_type": "markdown",
   "metadata": {},
   "source": [
    "##### Product_Category의 결측치를 대체하기 위해서 가장 연관성이 있는 Product_ID컬럼을 이용해서 채우면 좋을 것 같습니다.\n",
    "##### 그래서 5개의 제품아이디 범주화(P000, P003, P001, P002, P009) 별로 가장 높은 Product_Category_2를 출력해보았고 그 값으로 결측치를 대체할 것 입니다.\n",
    "P000 : 14\n",
    "<br>\n",
    "P003: 8\n",
    "<br>\n",
    "P001: 2\n",
    "<br>\n",
    "P002: 8\n",
    "<br>\n",
    "P009: 4"
   ]
  },
  {
   "cell_type": "code",
   "execution_count": 83,
   "metadata": {},
   "outputs": [],
   "source": [
    "# 'Product_Category_2' 열의 결측치를 대체하는 코드\n",
    "for idx in range(len(df)):\n",
    "    if str(df.loc[idx,'Product_Category_2']) == 'nan':\n",
    "        if df.loc[idx,'Product_ID'] == 'P000':\n",
    "            df.loc[idx,'Product_Category_2'] = 14\n",
    "        elif df.loc[idx,'Product_ID'] == 'P003':\n",
    "            df.loc[idx,'Product_Category_2'] = 8\n",
    "        elif df.loc[idx,'Product_ID'] == 'P001':\n",
    "            df.loc[idx,'Product_Category_2'] = 2\n",
    "        elif df.loc[idx,'Product_ID'] == 'P002':\n",
    "            df.loc[idx,'Product_Category_2'] = 8\n",
    "        elif df.loc[idx,'Product_ID'] == 'P009':\n",
    "            df.loc[idx,'Product_Category_2'] = 4"
   ]
  },
  {
   "cell_type": "markdown",
   "metadata": {},
   "source": [
    "### one-hot encoding"
   ]
  },
  {
   "cell_type": "code",
   "execution_count": 84,
   "metadata": {},
   "outputs": [],
   "source": [
    "product_id = pd.get_dummies(df['Product_ID'])\n",
    "product_category_1 = pd.get_dummies(df['Product_Category_1'], prefix='Product_Category_1')\n",
    "product_category_2 = pd.get_dummies(df['Product_Category_2'], prefix='Product_Category_2')\n",
    "age = pd.get_dummies(df['Age'])\n",
    "gender = pd.get_dummies(df['Gender'])\n",
    "occupation = pd.get_dummies(df['Occupation'], prefix='Occupation')\n",
    "city = pd.get_dummies(df['City_Category'], prefix='City')\n",
    "# year = pd.get_dummies(df['Stay_In_Current_City_Years'], prefix='Years')"
   ]
  },
  {
   "cell_type": "code",
   "execution_count": 85,
   "metadata": {},
   "outputs": [],
   "source": [
    "# encoding된 columns들 추가\n",
    "new_df = pd.concat([age,gender,city,product_id,product_category_1,product_category_2,occupation ,df], axis=1)"
   ]
  },
  {
   "cell_type": "code",
   "execution_count": 86,
   "metadata": {},
   "outputs": [],
   "source": [
    "# 불필요한 columns 제거\n",
    "new_df = new_df.drop(columns = ['Age','Gender','City_Category','User_ID','Product_ID','Product_Category_1','Product_Category_2','Occupation'])\n"
   ]
  },
  {
   "cell_type": "code",
   "execution_count": 87,
   "metadata": {},
   "outputs": [],
   "source": [
    "# string을 int로 변환('+'는 제거)\n",
    "new_df['Stay_In_Current_City_Years'] = new_df['Stay_In_Current_City_Years'].str.strip('+').astype('int')\n"
   ]
  },
  {
   "cell_type": "markdown",
   "metadata": {},
   "source": [
    "'Stay In Current City Years' 컬럼은 연도에 따른 상관관계가 존재할 것 같다고 생각했기 때문에 범주형 데이터로 분류하지 않고 연속형 데이터로 분류했습니다."
   ]
  },
  {
   "cell_type": "markdown",
   "metadata": {},
   "source": [
    "### 데이터 분리"
   ]
  },
  {
   "cell_type": "code",
   "execution_count": 88,
   "metadata": {},
   "outputs": [],
   "source": [
    "X, y = new_df.drop(columns = 'Purchase').values, new_df['Purchase'].values"
   ]
  },
  {
   "cell_type": "code",
   "execution_count": 89,
   "metadata": {},
   "outputs": [
    {
     "name": "stdout",
     "output_type": "stream",
     "text": [
      "(4998, 77) (4998,)\n"
     ]
    }
   ],
   "source": [
    "print(X.shape, y.shape)"
   ]
  },
  {
   "cell_type": "markdown",
   "metadata": {},
   "source": [
    "## 2. KNN 구현 & 파라미터 튜닝\n",
    "#### KNN파라미터 K(1~60)에 대한 성능을 확인해서 최적의 K를 찾는 것이 목표입니다."
   ]
  },
  {
   "cell_type": "code",
   "execution_count": 90,
   "metadata": {
    "scrolled": true
   },
   "outputs": [
    {
     "name": "stdout",
     "output_type": "stream",
     "text": [
      "Best Acc: 0.3952388222896641\n"
     ]
    }
   ],
   "source": [
    "from sklearn.neighbors import KNeighborsRegressor\n",
    "from sklearn.model_selection import train_test_split\n",
    "\n",
    "x_train, x_test, y_train, y_test = train_test_split(X, y, random_state=0)\n",
    "\n",
    "parameter_K = range(1,30)\n",
    "scores = []\n",
    "\n",
    "best_acc = 0\n",
    "for k in parameter_K:\n",
    "    knn = KNeighborsRegressor(k, p=2)\n",
    "    knn.fit(x_train,y_train)\n",
    "    score = knn.score(x_test, y_test)\n",
    "    if best_acc < score:\n",
    "        best_acc = score\n",
    "    scores.append(knn.score(x_test, y_test))\n",
    "print(f\"Best Acc: {best_acc}\")"
   ]
  },
  {
   "cell_type": "markdown",
   "metadata": {},
   "source": [
    "## 3. Evaluation"
   ]
  },
  {
   "cell_type": "code",
   "execution_count": 91,
   "metadata": {
    "scrolled": true
   },
   "outputs": [
    {
     "data": {
      "image/png": "[encoded data removed]",
      "text/plain": [
       "<Figure size 432x288 with 1 Axes>"
      ]
     },
     "metadata": {
      "needs_background": "light"
     },
     "output_type": "display_data"
    }
   ],
   "source": [
    "import matplotlib.pyplot as plt\n",
    "plt.plot(parameter_K, scores)\n",
    "plt.xlabel('K')\n",
    "plt.ylabel('KNN Regression Score')\n",
    "plt.plot(scores.index(best_acc)+1, best_acc, 'o', ms=10)\n",
    "plt.grid()\n",
    "plt.show()"
   ]
  },
  {
   "cell_type": "markdown",
   "metadata": {},
   "source": [
    "#### K=10에서 best_acc: 0.39가 나왔기 때문에 최적의 파라미터 K는 10입니다. \n",
    "#### 또한, Acc성능이 비교적 낮게 나왔는데 그 이유는 아마 '차원의 저주' 때문입니다.\n",
    "'차원의 저주'를 해결하기 위해서 dimension reduction을 해줄 것 입니다. "
   ]
  },
  {
   "cell_type": "code",
   "execution_count": 92,
   "metadata": {},
   "outputs": [
    {
     "name": "stdout",
     "output_type": "stream",
     "text": [
      "<class 'pandas.core.frame.DataFrame'>\n",
      "Int64Index: 4998 entries, 0 to 4997\n",
      "Data columns (total 11 columns):\n",
      " #   Column                      Non-Null Count  Dtype  \n",
      "---  ------                      --------------  -----  \n",
      " 0   User_ID                     4998 non-null   int64  \n",
      " 1   Product_ID                  4998 non-null   object \n",
      " 2   Gender                      4998 non-null   object \n",
      " 3   Age                         4998 non-null   object \n",
      " 4   Occupation                  4998 non-null   int64  \n",
      " 5   City_Category               4998 non-null   object \n",
      " 6   Stay_In_Current_City_Years  4998 non-null   object \n",
      " 7   Marital_Status              4998 non-null   int64  \n",
      " 8   Product_Category_1          4998 non-null   int64  \n",
      " 9   Product_Category_2          4998 non-null   float64\n",
      " 10  Purchase                    4998 non-null   int64  \n",
      "dtypes: float64(1), int64(5), object(5)\n",
      "memory usage: 597.6+ KB\n"
     ]
    }
   ],
   "source": [
    "df.info()"
   ]
  },
  {
   "cell_type": "markdown",
   "metadata": {},
   "source": [
    "지금 데이터의 컬럼들이 78차원으로 이루어진 것을 볼 수 있습니다. 그중에서도 Occupation, Product_Category_1,2 컬럼이 많은 차원을 차지하는 것을 볼 수 있습니다.\n",
    "#### 상관관계 맵을 이용해 목적변수인 'Purchase'와 상관관계가 특정 threshold보다 낮은 열들을 제거해서 차원을 축소해보겠습니다."
   ]
  },
  {
   "cell_type": "code",
   "execution_count": 93,
   "metadata": {},
   "outputs": [],
   "source": [
    "drop_columns = []\n",
    "threshold = 0.1\n",
    "\n",
    "# Product_category열에서 제거할 변수 탐색\n",
    "Product_category = pd.concat([new_df.iloc[:,17:54],new_df.loc[:,'Purchase']], axis=1)\n",
    "corr = Product_category.corr()['Purchase']\n",
    "for idx, value in enumerate(corr):\n",
    "    if abs(value) < threshold :\n",
    "        drop_columns.append(corr.index[idx])"
   ]
  },
  {
   "cell_type": "code",
   "execution_count": 94,
   "metadata": {},
   "outputs": [],
   "source": [
    "# Occupation열에서 제거할 변수 탐색\n",
    "Occupation = pd.concat([new_df.iloc[:,54:75], new_df.loc[:,'Purchase']], axis=1)\n",
    "corr = Occupation.corr()['Purchase']\n",
    "for idx, value in enumerate(corr):\n",
    "    if abs(value) < threshold :\n",
    "        drop_columns.append(corr.index[idx])"
   ]
  },
  {
   "cell_type": "code",
   "execution_count": 95,
   "metadata": {},
   "outputs": [
    {
     "name": "stdout",
     "output_type": "stream",
     "text": [
      "<class 'pandas.core.frame.DataFrame'>\n",
      "Int64Index: 4998 entries, 0 to 4997\n",
      "Data columns (total 36 columns):\n",
      " #   Column                      Non-Null Count  Dtype\n",
      "---  ------                      --------------  -----\n",
      " 0   0-17                        4998 non-null   uint8\n",
      " 1   18-25                       4998 non-null   uint8\n",
      " 2   26-35                       4998 non-null   uint8\n",
      " 3   36-45                       4998 non-null   uint8\n",
      " 4   46-50                       4998 non-null   uint8\n",
      " 5   51-55                       4998 non-null   uint8\n",
      " 6   55+                         4998 non-null   uint8\n",
      " 7   F                           4998 non-null   uint8\n",
      " 8   M                           4998 non-null   uint8\n",
      " 9   City_A                      4998 non-null   uint8\n",
      " 10  City_B                      4998 non-null   uint8\n",
      " 11  City_C                      4998 non-null   uint8\n",
      " 12  P000                        4998 non-null   uint8\n",
      " 13  P001                        4998 non-null   uint8\n",
      " 14  P002                        4998 non-null   uint8\n",
      " 15  P003                        4998 non-null   uint8\n",
      " 16  P009                        4998 non-null   uint8\n",
      " 17  Product_Category_1_1        4998 non-null   uint8\n",
      " 18  Product_Category_1_4        4998 non-null   uint8\n",
      " 19  Product_Category_1_5        4998 non-null   uint8\n",
      " 20  Product_Category_1_6        4998 non-null   uint8\n",
      " 21  Product_Category_1_7        4998 non-null   uint8\n",
      " 22  Product_Category_1_8        4998 non-null   uint8\n",
      " 23  Product_Category_1_10       4998 non-null   uint8\n",
      " 24  Product_Category_1_11       4998 non-null   uint8\n",
      " 25  Product_Category_1_12       4998 non-null   uint8\n",
      " 26  Product_Category_1_13       4998 non-null   uint8\n",
      " 27  Product_Category_1_15       4998 non-null   uint8\n",
      " 28  Product_Category_1_16       4998 non-null   uint8\n",
      " 29  Product_Category_1_19       4998 non-null   uint8\n",
      " 30  Product_Category_1_20       4998 non-null   uint8\n",
      " 31  Product_Category_2_2.0      4998 non-null   uint8\n",
      " 32  Product_Category_2_14.0     4998 non-null   uint8\n",
      " 33  Stay_In_Current_City_Years  4998 non-null   int64\n",
      " 34  Marital_Status              4998 non-null   int64\n",
      " 35  Purchase                    4998 non-null   int64\n",
      "dtypes: int64(3), uint8(33)\n",
      "memory usage: 446.3 KB\n"
     ]
    }
   ],
   "source": [
    "# 열 제거\n",
    "df1 = new_df.drop(columns=drop_columns)\n",
    "df1.info()"
   ]
  },
  {
   "cell_type": "code",
   "execution_count": 96,
   "metadata": {},
   "outputs": [],
   "source": [
    "# 데이터 분리\n",
    "X, y = df1.drop(columns = 'Purchase').values, df['Purchase'].values"
   ]
  },
  {
   "cell_type": "code",
   "execution_count": 97,
   "metadata": {},
   "outputs": [
    {
     "name": "stdout",
     "output_type": "stream",
     "text": [
      "Best Acc: 0.36038906317303876\n"
     ]
    }
   ],
   "source": [
    "# 최적의 파라미터 K 찾기\n",
    "x_train, x_test, y_train, y_test = train_test_split(X, y, random_state=0)\n",
    "\n",
    "parameter_K = range(1,30)\n",
    "scores = []\n",
    "\n",
    "best_acc = 0\n",
    "for k in parameter_K:\n",
    "    knn = KNeighborsRegressor(k, p=2)\n",
    "    knn.fit(x_train,y_train)\n",
    "    score = knn.score(x_test, y_test)\n",
    "    if best_acc < score:\n",
    "        best_acc = score\n",
    "    scores.append(knn.score(x_test, y_test))\n",
    "print(f\"Best Acc: {best_acc}\")"
   ]
  },
  {
   "cell_type": "code",
   "execution_count": 98,
   "metadata": {},
   "outputs": [
    {
     "data": {
      "image/png": "[encoded data removed]",
      "text/plain": [
       "<Figure size 432x288 with 1 Axes>"
      ]
     },
     "metadata": {
      "needs_background": "light"
     },
     "output_type": "display_data"
    }
   ],
   "source": [
    "# 결과값을 시각화\n",
    "plt.plot(parameter_K, scores)\n",
    "plt.xlabel('K')\n",
    "plt.ylabel('KNN Regression Score')\n",
    "plt.plot(scores.index(best_acc)+1, best_acc, 'o', ms=10)\n",
    "plt.grid()\n",
    "plt.show()"
   ]
  },
  {
   "cell_type": "markdown",
   "metadata": {},
   "source": [
    "목적변수 'Purchase'와 상관관계가 낮은 column들을 제거해서 기존 77차원에서 35차원으로 줄이기는 했지만 오히려 성능은 더 떨어진 것을 확인할 수 있습니다.\n",
    "#### 이번에는 '구매 량'에 따른 '제품 카테고리1,2' 와 '직업'을 high, mid, low로 범주화해서 차원을 축소시켜보겠습니다."
   ]
  },
  {
   "cell_type": "code",
   "execution_count": 171,
   "metadata": {},
   "outputs": [],
   "source": [
    "# 직업에 따른 구매량을 정렬\n",
    "Occupation_group = df.groupby('Occupation').mean().sort_values(by = ['Purchase'])\n",
    "# 제품 카테고리1에 따른 구매량을 정렬\n",
    "Category1_group = df.groupby('Product_Category_1').mean().sort_values(by = ['Purchase'])\n",
    "# 제품 카테고리2에 따른 구매량을 정렬\n",
    "Category2_group = df.groupby('Product_Category_2').mean().sort_values(by = ['Purchase'])"
   ]
  },
  {
   "cell_type": "code",
   "execution_count": 172,
   "metadata": {},
   "outputs": [],
   "source": [
    "def split_LMH(grouped):\n",
    "    low = list(grouped.index[:7])\n",
    "    medium = list(grouped.index[7:14])\n",
    "    high = (grouped.index[14:])\n",
    "    return low, medium, high\n",
    "\n",
    "Occupation_low, Occupation_mid, Occupation_high = split_LMH(Occupation_group)\n",
    "Category1_low, Category1_mid, Category1_high = split_LMH(Category1_group)\n",
    "Category2_low, Category2_mid, Category2_high = split_LMH(Category2_group)"
   ]
  },
  {
   "cell_type": "code",
   "execution_count": 181,
   "metadata": {},
   "outputs": [
    {
     "data": {
      "text/html": [
       "<div>\n",
       "<style scoped>\n",
       "    .dataframe tbody tr th:only-of-type {\n",
       "        vertical-align: middle;\n",
       "    }\n",
       "\n",
       "    .dataframe tbody tr th {\n",
       "        vertical-align: top;\n",
       "    }\n",
       "\n",
       "    .dataframe thead th {\n",
       "        text-align: right;\n",
       "    }\n",
       "</style>\n",
       "<table border=\"1\" class=\"dataframe\">\n",
       "  <thead>\n",
       "    <tr style=\"text-align: right;\">\n",
       "      <th></th>\n",
       "      <th>User_ID</th>\n",
       "      <th>Product_ID</th>\n",
       "      <th>Gender</th>\n",
       "      <th>Age</th>\n",
       "      <th>Occupation</th>\n",
       "      <th>City_Category</th>\n",
       "      <th>Stay_In_Current_City_Years</th>\n",
       "      <th>Marital_Status</th>\n",
       "      <th>Product_Category_1</th>\n",
       "      <th>Product_Category_2</th>\n",
       "      <th>Purchase</th>\n",
       "    </tr>\n",
       "  </thead>\n",
       "  <tbody>\n",
       "    <tr>\n",
       "      <th>0</th>\n",
       "      <td>1001088</td>\n",
       "      <td>P000</td>\n",
       "      <td>F</td>\n",
       "      <td>0-17</td>\n",
       "      <td>1</td>\n",
       "      <td>A</td>\n",
       "      <td>3</td>\n",
       "      <td>0</td>\n",
       "      <td>2</td>\n",
       "      <td>2</td>\n",
       "      <td>2010</td>\n",
       "    </tr>\n",
       "    <tr>\n",
       "      <th>1</th>\n",
       "      <td>1004493</td>\n",
       "      <td>P003</td>\n",
       "      <td>F</td>\n",
       "      <td>0-17</td>\n",
       "      <td>1</td>\n",
       "      <td>A</td>\n",
       "      <td>1</td>\n",
       "      <td>0</td>\n",
       "      <td>3</td>\n",
       "      <td>1</td>\n",
       "      <td>4483</td>\n",
       "    </tr>\n",
       "    <tr>\n",
       "      <th>2</th>\n",
       "      <td>1005302</td>\n",
       "      <td>P000</td>\n",
       "      <td>F</td>\n",
       "      <td>0-17</td>\n",
       "      <td>1</td>\n",
       "      <td>A</td>\n",
       "      <td>1</td>\n",
       "      <td>0</td>\n",
       "      <td>2</td>\n",
       "      <td>2</td>\n",
       "      <td>7696</td>\n",
       "    </tr>\n",
       "    <tr>\n",
       "      <th>3</th>\n",
       "      <td>1001348</td>\n",
       "      <td>P001</td>\n",
       "      <td>F</td>\n",
       "      <td>0-17</td>\n",
       "      <td>1</td>\n",
       "      <td>A</td>\n",
       "      <td>3</td>\n",
       "      <td>0</td>\n",
       "      <td>2</td>\n",
       "      <td>2</td>\n",
       "      <td>16429</td>\n",
       "    </tr>\n",
       "    <tr>\n",
       "      <th>4</th>\n",
       "      <td>1001348</td>\n",
       "      <td>P001</td>\n",
       "      <td>F</td>\n",
       "      <td>0-17</td>\n",
       "      <td>1</td>\n",
       "      <td>A</td>\n",
       "      <td>3</td>\n",
       "      <td>0</td>\n",
       "      <td>2</td>\n",
       "      <td>2</td>\n",
       "      <td>5780</td>\n",
       "    </tr>\n",
       "    <tr>\n",
       "      <th>...</th>\n",
       "      <td>...</td>\n",
       "      <td>...</td>\n",
       "      <td>...</td>\n",
       "      <td>...</td>\n",
       "      <td>...</td>\n",
       "      <td>...</td>\n",
       "      <td>...</td>\n",
       "      <td>...</td>\n",
       "      <td>...</td>\n",
       "      <td>...</td>\n",
       "      <td>...</td>\n",
       "    </tr>\n",
       "    <tr>\n",
       "      <th>4993</th>\n",
       "      <td>1000837</td>\n",
       "      <td>P001</td>\n",
       "      <td>M</td>\n",
       "      <td>55+</td>\n",
       "      <td>2</td>\n",
       "      <td>C</td>\n",
       "      <td>1</td>\n",
       "      <td>1</td>\n",
       "      <td>2</td>\n",
       "      <td>2</td>\n",
       "      <td>11701</td>\n",
       "    </tr>\n",
       "    <tr>\n",
       "      <th>4994</th>\n",
       "      <td>1000293</td>\n",
       "      <td>P003</td>\n",
       "      <td>M</td>\n",
       "      <td>55+</td>\n",
       "      <td>2</td>\n",
       "      <td>C</td>\n",
       "      <td>1</td>\n",
       "      <td>1</td>\n",
       "      <td>2</td>\n",
       "      <td>1</td>\n",
       "      <td>2045</td>\n",
       "    </tr>\n",
       "    <tr>\n",
       "      <th>4995</th>\n",
       "      <td>1001908</td>\n",
       "      <td>P001</td>\n",
       "      <td>M</td>\n",
       "      <td>55+</td>\n",
       "      <td>1</td>\n",
       "      <td>C</td>\n",
       "      <td>3</td>\n",
       "      <td>1</td>\n",
       "      <td>2</td>\n",
       "      <td>3</td>\n",
       "      <td>4505</td>\n",
       "    </tr>\n",
       "    <tr>\n",
       "      <th>4996</th>\n",
       "      <td>1005517</td>\n",
       "      <td>P003</td>\n",
       "      <td>M</td>\n",
       "      <td>55+</td>\n",
       "      <td>1</td>\n",
       "      <td>C</td>\n",
       "      <td>2</td>\n",
       "      <td>1</td>\n",
       "      <td>1</td>\n",
       "      <td>1</td>\n",
       "      <td>1413</td>\n",
       "    </tr>\n",
       "    <tr>\n",
       "      <th>4997</th>\n",
       "      <td>1003015</td>\n",
       "      <td>P001</td>\n",
       "      <td>M</td>\n",
       "      <td>55+</td>\n",
       "      <td>1</td>\n",
       "      <td>C</td>\n",
       "      <td>0</td>\n",
       "      <td>1</td>\n",
       "      <td>2</td>\n",
       "      <td>1</td>\n",
       "      <td>7182</td>\n",
       "    </tr>\n",
       "  </tbody>\n",
       "</table>\n",
       "<p>4998 rows × 11 columns</p>\n",
       "</div>"
      ],
      "text/plain": [
       "      User_ID Product_ID Gender   Age  Occupation City_Category  \\\n",
       "0     1001088       P000      F  0-17           1             A   \n",
       "1     1004493       P003      F  0-17           1             A   \n",
       "2     1005302       P000      F  0-17           1             A   \n",
       "3     1001348       P001      F  0-17           1             A   \n",
       "4     1001348       P001      F  0-17           1             A   \n",
       "...       ...        ...    ...   ...         ...           ...   \n",
       "4993  1000837       P001      M   55+           2             C   \n",
       "4994  1000293       P003      M   55+           2             C   \n",
       "4995  1001908       P001      M   55+           1             C   \n",
       "4996  1005517       P003      M   55+           1             C   \n",
       "4997  1003015       P001      M   55+           1             C   \n",
       "\n",
       "      Stay_In_Current_City_Years  Marital_Status  Product_Category_1  \\\n",
       "0                              3               0                   2   \n",
       "1                              1               0                   3   \n",
       "2                              1               0                   2   \n",
       "3                              3               0                   2   \n",
       "4                              3               0                   2   \n",
       "...                          ...             ...                 ...   \n",
       "4993                           1               1                   2   \n",
       "4994                           1               1                   2   \n",
       "4995                           3               1                   2   \n",
       "4996                           2               1                   1   \n",
       "4997                           0               1                   2   \n",
       "\n",
       "      Product_Category_2  Purchase  \n",
       "0                      2      2010  \n",
       "1                      1      4483  \n",
       "2                      2      7696  \n",
       "3                      2     16429  \n",
       "4                      2      5780  \n",
       "...                  ...       ...  \n",
       "4993                   2     11701  \n",
       "4994                   1      2045  \n",
       "4995                   3      4505  \n",
       "4996                   1      1413  \n",
       "4997                   1      7182  \n",
       "\n",
       "[4998 rows x 11 columns]"
      ]
     },
     "execution_count": 181,
     "metadata": {},
     "output_type": "execute_result"
    }
   ],
   "source": [
    "def assign_LMH(df,column,low,mid,high):\n",
    "    for i in range(len(df.Occupation.values)):\n",
    "        if df[column].values[i] in low:\n",
    "            df.loc[i, column] = 1\n",
    "        elif df[column].values[i] in mid:\n",
    "            df.loc[i, column] = 2\n",
    "        elif df[column].values[i] in high:\n",
    "            df.loc[i, column] = 3\n",
    "    return df\n",
    "\n",
    "df2 = assign_LMH(df.copy(), 'Occupation', Occupation_low, Occupation_mid, Occupation_high)\n",
    "df2 = assign_LMH(df2, 'Product_Category_1', Category1_low, Category1_mid, Category1_high)\n",
    "df2 = assign_LMH(df2, 'Product_Category_2', Category2_low, Category2_mid, Category2_high)\n",
    "df2['Product_Category_2'] = df2['Product_Category_2'].astype(int)\n",
    "df2['Stay_In_Current_City_Years'] = df2['Stay_In_Current_City_Years'].str.strip('+').astype('int')\n",
    "df2"
   ]
  },
  {
   "cell_type": "code",
   "execution_count": 182,
   "metadata": {},
   "outputs": [],
   "source": [
    "product_id = pd.get_dummies(df2['Product_ID'])\n",
    "product_category_1 = pd.get_dummies(df2['Product_Category_1'], prefix='Product_Category_1')\n",
    "product_category_2 = pd.get_dummies(df2['Product_Category_2'], prefix='Product_Category_2')\n",
    "age = pd.get_dummies(df2['Age'])\n",
    "gender = pd.get_dummies(df2['Gender'])\n",
    "occupation = pd.get_dummies(df2['Occupation'], prefix='Occupation')\n",
    "city = pd.get_dummies(df2['City_Category'], prefix='City')"
   ]
  },
  {
   "cell_type": "code",
   "execution_count": 183,
   "metadata": {},
   "outputs": [],
   "source": [
    "df2 = pd.concat([age,gender,city,product_id,product_category_1,product_category_2,occupation ,df2], axis=1)"
   ]
  },
  {
   "cell_type": "code",
   "execution_count": 184,
   "metadata": {},
   "outputs": [],
   "source": [
    "df2 = df2.drop(columns = ['Age','Gender','City_Category','User_ID','Product_ID','Product_Category_1','Product_Category_2','Occupation'])"
   ]
  },
  {
   "cell_type": "code",
   "execution_count": 185,
   "metadata": {},
   "outputs": [
    {
     "name": "stdout",
     "output_type": "stream",
     "text": [
      "<class 'pandas.core.frame.DataFrame'>\n",
      "Int64Index: 4998 entries, 0 to 4997\n",
      "Data columns (total 29 columns):\n",
      " #   Column                      Non-Null Count  Dtype\n",
      "---  ------                      --------------  -----\n",
      " 0   0-17                        4998 non-null   uint8\n",
      " 1   18-25                       4998 non-null   uint8\n",
      " 2   26-35                       4998 non-null   uint8\n",
      " 3   36-45                       4998 non-null   uint8\n",
      " 4   46-50                       4998 non-null   uint8\n",
      " 5   51-55                       4998 non-null   uint8\n",
      " 6   55+                         4998 non-null   uint8\n",
      " 7   F                           4998 non-null   uint8\n",
      " 8   M                           4998 non-null   uint8\n",
      " 9   City_A                      4998 non-null   uint8\n",
      " 10  City_B                      4998 non-null   uint8\n",
      " 11  City_C                      4998 non-null   uint8\n",
      " 12  P000                        4998 non-null   uint8\n",
      " 13  P001                        4998 non-null   uint8\n",
      " 14  P002                        4998 non-null   uint8\n",
      " 15  P003                        4998 non-null   uint8\n",
      " 16  P009                        4998 non-null   uint8\n",
      " 17  Product_Category_1_1        4998 non-null   uint8\n",
      " 18  Product_Category_1_2        4998 non-null   uint8\n",
      " 19  Product_Category_1_3        4998 non-null   uint8\n",
      " 20  Product_Category_2_1        4998 non-null   uint8\n",
      " 21  Product_Category_2_2        4998 non-null   uint8\n",
      " 22  Product_Category_2_3        4998 non-null   uint8\n",
      " 23  Occupation_1                4998 non-null   uint8\n",
      " 24  Occupation_2                4998 non-null   uint8\n",
      " 25  Occupation_3                4998 non-null   uint8\n",
      " 26  Stay_In_Current_City_Years  4998 non-null   int64\n",
      " 27  Marital_Status              4998 non-null   int64\n",
      " 28  Purchase                    4998 non-null   int64\n",
      "dtypes: int64(3), uint8(26)\n",
      "memory usage: 412.1 KB\n"
     ]
    }
   ],
   "source": [
    "df2.info()"
   ]
  },
  {
   "cell_type": "code",
   "execution_count": 186,
   "metadata": {},
   "outputs": [],
   "source": [
    "# 데이터 분리\n",
    "X, y = df2.drop(columns = 'Purchase').values, df2['Purchase'].values"
   ]
  },
  {
   "cell_type": "code",
   "execution_count": 187,
   "metadata": {},
   "outputs": [
    {
     "name": "stdout",
     "output_type": "stream",
     "text": [
      "Best Acc: 0.2576502096361406\n"
     ]
    }
   ],
   "source": [
    "# 최적의 파라미터 K 찾기\n",
    "x_train, x_test, y_train, y_test = train_test_split(X, y, random_state=0)\n",
    "\n",
    "parameter_K = range(1,30)\n",
    "scores = []\n",
    "\n",
    "best_acc = 0\n",
    "for k in parameter_K:\n",
    "    knn = KNeighborsRegressor(k, p=2)\n",
    "    knn.fit(x_train,y_train)\n",
    "    score = knn.score(x_test, y_test)\n",
    "    if best_acc < score:\n",
    "        best_acc = score\n",
    "    scores.append(knn.score(x_test, y_test))\n",
    "print(f\"Best Acc: {best_acc}\")"
   ]
  },
  {
   "cell_type": "code",
   "execution_count": 188,
   "metadata": {},
   "outputs": [
    {
     "data": {
      "image/png": "[encoded data removed]",
      "text/plain": [
       "<Figure size 432x288 with 1 Axes>"
      ]
     },
     "metadata": {
      "needs_background": "light"
     },
     "output_type": "display_data"
    }
   ],
   "source": [
    "# 결과값을 시각화\n",
    "plt.plot(parameter_K, scores)\n",
    "plt.xlabel('K')\n",
    "plt.ylabel('KNN Regression Score')\n",
    "plt.plot(scores.index(best_acc)+1, best_acc, 'o', ms=10)\n",
    "plt.grid()\n",
    "plt.show()"
   ]
  },
  {
   "cell_type": "markdown",
   "metadata": {},
   "source": [
    "제품 카테고리 열을 변형시켰을 때 오히려 정확도가 감소하는 경향을 보입니다. "
   ]
  },
  {
   "cell_type": "code",
   "execution_count": null,
   "metadata": {},
   "outputs": [],
   "source": []
  }
 ],
 "metadata": {
  "colab": {
   "collapsed_sections": [],
   "name": "KNN 과제.ipynb",
   "provenance": []
  },
  "kernelspec": {
   "display_name": "Python 3 (ipykernel)",
   "language": "python",
   "name": "python3"
  },
  "language_info": {
   "codemirror_mode": {
    "name": "ipython",
    "version": 3
   },
   "file_extension": ".py",
   "mimetype": "text/x-python",
   "name": "python",
   "nbconvert_exporter": "python",
   "pygments_lexer": "ipython3",
   "version": "3.9.12"
  }
 },
 "nbformat": 4,
 "nbformat_minor": 1
}
